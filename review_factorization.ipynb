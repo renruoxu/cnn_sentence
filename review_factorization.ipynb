{
 "cells": [
  {
   "cell_type": "markdown",
   "metadata": {},
   "source": [
    "### Review prediction for Yelp data"
   ]
  },
  {
   "cell_type": "code",
   "execution_count": 9,
   "metadata": {
    "collapsed": false
   },
   "outputs": [],
   "source": [
    "from gensim.models import Doc2Vec\n",
    "import numpy as np\n",
    "import json\n",
    "import pandas as pd\n",
    "import re\n",
    "from gensim.parsing import strip_non_alphanum, strip_multiple_whitespaces\n",
    "# change python encoding\n",
    "import sys\n",
    "reload(sys)  \n",
    "sys.setdefaultencoding('utf-8')"
   ]
  },
  {
   "cell_type": "code",
   "execution_count": 10,
   "metadata": {
    "collapsed": false,
    "scrolled": true
   },
   "outputs": [],
   "source": [
    "d = \"data/yelp_business_rating/yelp_training_set/yelp_training_set_review.json\"\n",
    "data = []\n",
    "with open(d) as f:\n",
    "    for line in f.readlines():\n",
    "        data.append(json.loads(line))"
   ]
  },
  {
   "cell_type": "code",
   "execution_count": 11,
   "metadata": {
    "collapsed": false
   },
   "outputs": [],
   "source": [
    "df = pd.DataFrame.from_dict(data)"
   ]
  },
  {
   "cell_type": "code",
   "execution_count": 14,
   "metadata": {
    "collapsed": false
   },
   "outputs": [],
   "source": [
    "contractions = re.compile(r\"'|-\")\n",
    "symbols = re.compile(r'(\\W+)', re.U)\n",
    "numeric = re.compile(r'(?<=\\s)(\\d+|\\w\\d+|\\d+\\w)(?=\\s)', re.I)\n",
    "swrd = re.compile(r'(?<=\\s)(,|\"|\\(|\\)|to|a|as|the|an|and|or|for|are|is)(?=\\s)', re.I)\n",
    "suffix = re.compile(r'(?<=\\w)(s|ings*|ly|(?<=e)[sd]+)(?=\\s)')\n",
    "seps = re.compile(r'\\s+')\n",
    "\n",
    "# cleaner (order matters)\n",
    "def clean(text): \n",
    "    text = u' ' +  text.lower() + u' '\n",
    "    text = contractions.sub('', text)\n",
    "    text = symbols.sub(r' \\1 ', text)\n",
    "    text = numeric.sub('000', text)\n",
    "    text = swrd.sub(' ', text)\n",
    "    text = seps.sub(' ', text)\n",
    "    text = strip_multiple_whitespaces(strip_non_alphanum(text).strip())\n",
    "    #return text.split(' ')\n",
    "    return text\n",
    "\n",
    "\n",
    "# import re\n",
    "# alteos = re.compile(r'([!\\?])')\n",
    "\n",
    "# def revsplit(l):\n",
    "#     l = alteos.sub(r' \\1 . ', l).rstrip(\"( \\. )*\\n\")\n",
    "#     return [s.split() for s in l.split(\" . \")]"
   ]
  },
  {
   "cell_type": "code",
   "execution_count": 15,
   "metadata": {
    "collapsed": false
   },
   "outputs": [
    {
     "data": {
      "text/plain": [
       "Index([u'business_id',        u'date',   u'review_id',       u'stars',\n",
       "              u'text',        u'type',     u'user_id',       u'votes'],\n",
       "      dtype='object')"
      ]
     },
     "execution_count": 15,
     "metadata": {},
     "output_type": "execute_result"
    }
   ],
   "source": [
    "df.columns"
   ]
  },
  {
   "cell_type": "markdown",
   "metadata": {},
   "source": [
    "### Get features for users and businesses using Doc2Vec model"
   ]
  },
  {
   "cell_type": "code",
   "execution_count": 16,
   "metadata": {
    "collapsed": false
   },
   "outputs": [],
   "source": [
    "group_user = df.groupby(by='user_id',squeeze=True).groups\n",
    "group_business = df.groupby(by='business_id',squeeze=True).groups"
   ]
  },
  {
   "cell_type": "code",
   "execution_count": 17,
   "metadata": {
    "collapsed": false
   },
   "outputs": [],
   "source": [
    "# save documents to file\n",
    "\n",
    "from gensim.models import Doc2Vec\n",
    "from gensim.models.doc2vec import LabeledSentence\n",
    "user_dict = {}\n",
    "doc_users = []\n",
    "j = 0\n",
    "\n",
    "with open(\"data/yelp_train_users.txt\",\"w\") as f:\n",
    "    for u,ids in group_user.items():\n",
    "        tag = 'SENT_' + str(j)\n",
    "        doc = clean(' '.join(df.iloc[ids].text))\n",
    "        doc = doc.encode('utf-8',errors='ignore').decode('utf-8')\n",
    "        #doc_users.append(LabeledSentence(words=doc,tags=tag))\n",
    "        user_dict[u] = tag\n",
    "        j+=1\n",
    "        f.write(doc + '\\n')"
   ]
  },
  {
   "cell_type": "code",
   "execution_count": 18,
   "metadata": {
    "collapsed": false
   },
   "outputs": [],
   "source": [
    "# load documents\n",
    "from gensim.models.doc2vec import TaggedLineDocument\n",
    "%time doc_users = TaggedLineDocument('data/yelp_train_users.txt')"
   ]
  },
  {
   "cell_type": "code",
   "execution_count": 10,
   "metadata": {
    "collapsed": false
   },
   "outputs": [],
   "source": [
    "# train doc2vec model\n",
    "%time model_user = Doc2Vec(documents=doc_users,size=100)"
   ]
  },
  {
   "cell_type": "code",
   "execution_count": 19,
   "metadata": {
    "collapsed": false
   },
   "outputs": [],
   "source": [
    "# save documents to file\n",
    "business_dict = {}\n",
    "doc_business = []\n",
    "j = 0\n",
    "\n",
    "with open(\"data/yelp_train_business.txt\",\"w\") as f:\n",
    "    for u,ids in group_business.items():\n",
    "        tag = 'SENT_' + str(j)\n",
    "        doc = clean(' '.join(df.iloc[ids].text))\n",
    "        doc = doc.encode('utf-8',errors='ignore').decode('utf-8')\n",
    "        business_dict[u] = tag\n",
    "        j+=1\n",
    "        f.write(doc + '\\n')"
   ]
  },
  {
   "cell_type": "code",
   "execution_count": 20,
   "metadata": {
    "collapsed": true
   },
   "outputs": [],
   "source": [
    "#load documents\n",
    "from gensim.models.doc2vec import TaggedLineDocument\n",
    "%time doc_business = TaggedLineDocument('data/yelp_train_business.txt')"
   ]
  },
  {
   "cell_type": "code",
   "execution_count": 30,
   "metadata": {
    "collapsed": true
   },
   "outputs": [],
   "source": [
    "#train doc2vec model\n",
    "%time model_business = Doc2Vec(documents=doc_business,size=100)"
   ]
  },
  {
   "cell_type": "code",
   "execution_count": 31,
   "metadata": {
    "collapsed": true
   },
   "outputs": [],
   "source": [
    "## save models for users and business\n",
    "import cPickle\n",
    "with open('data/doc2vec_yelp_user.pkl','w') as f:\n",
    "    cPickle.dump(model_user,f)\n",
    "with open('data/doc2vec_yelp_business.pkl','w') as f:\n",
    "    cPickle.dump(model_business,f)\n",
    "with open('data/dict_yelp_user.pkl','w') as f:\n",
    "    cPickle.dump(user_dict,f)\n",
    "with open('data/dic_yelp_business.pkl','w') as f:\n",
    "    cPickle.dump(business_dict,f)"
   ]
  },
  {
   "cell_type": "markdown",
   "metadata": {},
   "source": [
    "#### Recommendation using Yelp data"
   ]
  },
  {
   "cell_type": "code",
   "execution_count": 21,
   "metadata": {
    "collapsed": false
   },
   "outputs": [],
   "source": [
    "## formulate user - business rating\n",
    "n_business = df.business_id.unique().shape[0]\n",
    "n_users = df.user_id.unique().shape[0]\n",
    "row_names = {n:i for i,n in enumerate(df.user_id.unique())} # user_id for rows\n",
    "col_names = {n:i for i,n in enumerate(df.business_id.unique())} # business_id for columns\n",
    "X_train = np.zeros((n_users,n_business))\n",
    "\n",
    "for ib,iu,star in df[['business_id','user_id','stars']].values:\n",
    "    i = row_names[iu]\n",
    "    j = col_names[ib]\n",
    "    X_train[i,j] = star"
   ]
  },
  {
   "cell_type": "code",
   "execution_count": 22,
   "metadata": {
    "collapsed": true
   },
   "outputs": [],
   "source": [
    "with open('data/col_names.pkl','w') as f:\n",
    "    cPickle.dump(col_names,f)\n",
    "with open('data/row_names.pkl','w') as f:\n",
    "    cPickle.dump(row_names,f)"
   ]
  },
  {
   "cell_type": "code",
   "execution_count": 100,
   "metadata": {
    "collapsed": false
   },
   "outputs": [],
   "source": [
    "## NMF\n",
    "from sklearn.decomposition import NMF\n",
    "nmf = NMF(n_components=100)\n",
    "%time W =  nmf.fit_transform(X_train)\n",
    "H = nmf.components_"
   ]
  },
  {
   "cell_type": "code",
   "execution_count": 104,
   "metadata": {
    "collapsed": true
   },
   "outputs": [],
   "source": [
    "with open('data/yelp_mf.pkl','w') as f:\n",
    "    cPickle.dump(nmf,f)"
   ]
  },
  {
   "cell_type": "code",
   "execution_count": 110,
   "metadata": {
    "collapsed": false
   },
   "outputs": [
    {
     "data": {
      "text/plain": [
       "((45981, 100), (100, 11537))"
      ]
     },
     "execution_count": 110,
     "metadata": {},
     "output_type": "execute_result"
    }
   ],
   "source": [
    "W.shape, H.shape"
   ]
  },
  {
   "cell_type": "code",
   "execution_count": 112,
   "metadata": {
    "collapsed": false
   },
   "outputs": [],
   "source": [
    "# predict residual\n",
    "residual_nmf = X_train - np.dot(W,H)"
   ]
  },
  {
   "cell_type": "code",
   "execution_count": 114,
   "metadata": {
    "collapsed": false
   },
   "outputs": [],
   "source": [
    "mean_u = residual_nmf.mean() ### coefficient miu"
   ]
  },
  {
   "cell_type": "code",
   "execution_count": 117,
   "metadata": {
    "collapsed": true
   },
   "outputs": [],
   "source": [
    "residual_nmf = residual_nmf - mean_u ## updated residual"
   ]
  },
  {
   "cell_type": "code",
   "execution_count": 120,
   "metadata": {
    "collapsed": false
   },
   "outputs": [],
   "source": [
    "import h5py\n",
    "f = h5py.File('data/residual.h5','w')\n",
    "f.create_dataset('data',data=residual_nmf)\n",
    "f.close()"
   ]
  },
  {
   "cell_type": "markdown",
   "metadata": {},
   "source": [
    "#### reload values to do regression"
   ]
  },
  {
   "cell_type": "code",
   "execution_count": 1,
   "metadata": {
    "collapsed": true
   },
   "outputs": [],
   "source": [
    "import h5py\n",
    "import numpy as np\n",
    "f = h5py.File('data/residual.h5','r')\n",
    "residual = f['data'].value\n",
    "f.close()"
   ]
  },
  {
   "cell_type": "code",
   "execution_count": 2,
   "metadata": {
    "collapsed": false,
    "scrolled": true
   },
   "outputs": [
    {
     "name": "stdout",
     "output_type": "stream",
     "text": [
      "Couldn't import dot_parser, loading of dot files will not be possible.\n",
      "CPU times: user 9.11 s, sys: 96 ms, total: 9.21 s\n",
      "Wall time: 9.21 s\n",
      "CPU times: user 5.44 s, sys: 24 ms, total: 5.46 s\n",
      "Wall time: 5.46 s\n",
      "CPU times: user 112 ms, sys: 0 ns, total: 112 ms\n",
      "Wall time: 114 ms\n",
      "CPU times: user 28 ms, sys: 0 ns, total: 28 ms\n",
      "Wall time: 29 ms\n",
      "CPU times: user 20 ms, sys: 0 ns, total: 20 ms\n",
      "Wall time: 19.8 ms\n",
      "CPU times: user 80 ms, sys: 4 ms, total: 84 ms\n",
      "Wall time: 84.3 ms\n"
     ]
    }
   ],
   "source": [
    "import cPickle\n",
    "with open('data/doc2vec_yelp_user.pkl','r') as f:\n",
    "    %time model_user = cPickle.load(f)\n",
    "with open('data/doc2vec_yelp_business.pkl','r') as f:\n",
    "    %time model_business = cPickle.load(f)\n",
    "with open('data/dict_yelp_user.pkl','r') as f:\n",
    "    %time user_dict = cPickle.load(f)\n",
    "with open('data/dic_yelp_business.pkl','r') as f:\n",
    "    %time business_dict = cPickle.load(f)\n",
    "with open('data/col_names.pkl','r') as f:\n",
    "    %time col_names = cPickle.load(f)\n",
    "with open('data/row_names.pkl','r') as f:\n",
    "    %time row_names = cPickle.load(f)"
   ]
  },
  {
   "cell_type": "code",
   "execution_count": 3,
   "metadata": {
    "collapsed": false
   },
   "outputs": [],
   "source": [
    "row_names = {i:n for n,i in row_names.items()}"
   ]
  },
  {
   "cell_type": "code",
   "execution_count": 4,
   "metadata": {
    "collapsed": false
   },
   "outputs": [],
   "source": [
    "col_names = {i:n for n,i in col_names.items()}"
   ]
  },
  {
   "cell_type": "code",
   "execution_count": 5,
   "metadata": {
    "collapsed": true
   },
   "outputs": [],
   "source": [
    "# replication of method in the report\n",
    "n_users =  len(user_dict)\n",
    "n_business = len(business_dict)\n",
    "y = residual.ravel()"
   ]
  },
  {
   "cell_type": "code",
   "execution_count": 7,
   "metadata": {
    "collapsed": false
   },
   "outputs": [
    {
     "ename": "MemoryError",
     "evalue": "",
     "output_type": "error",
     "traceback": [
      "\u001b[1;31m---------------------------------------------------------------------------\u001b[0m",
      "\u001b[1;31mMemoryError\u001b[0m                               Traceback (most recent call last)",
      "\u001b[1;32m<ipython-input-7-44f5c2e12449>\u001b[0m in \u001b[0;36m<module>\u001b[1;34m()\u001b[0m\n\u001b[1;32m----> 1\u001b[1;33m \u001b[0mX\u001b[0m \u001b[1;33m=\u001b[0m \u001b[0mnp\u001b[0m\u001b[1;33m.\u001b[0m\u001b[0mzeros\u001b[0m\u001b[1;33m(\u001b[0m\u001b[1;33m(\u001b[0m\u001b[0mn_users\u001b[0m\u001b[1;33m,\u001b[0m\u001b[0mn_business\u001b[0m\u001b[1;33m,\u001b[0m\u001b[1;36m200\u001b[0m\u001b[1;33m)\u001b[0m\u001b[1;33m)\u001b[0m\u001b[1;33m\u001b[0m\u001b[0m\n\u001b[0m\u001b[0;32m      2\u001b[0m \u001b[1;32mfor\u001b[0m \u001b[0mi\u001b[0m \u001b[1;32min\u001b[0m \u001b[0mrange\u001b[0m\u001b[1;33m(\u001b[0m\u001b[0mn_users\u001b[0m\u001b[1;33m)\u001b[0m\u001b[1;33m:\u001b[0m\u001b[1;33m\u001b[0m\u001b[0m\n\u001b[0;32m      3\u001b[0m     \u001b[1;32mfor\u001b[0m \u001b[0mj\u001b[0m \u001b[1;32min\u001b[0m \u001b[0mrange\u001b[0m\u001b[1;33m(\u001b[0m\u001b[0mn_business\u001b[0m\u001b[1;33m)\u001b[0m\u001b[1;33m:\u001b[0m\u001b[1;33m\u001b[0m\u001b[0m\n\u001b[0;32m      4\u001b[0m         \u001b[0miname\u001b[0m \u001b[1;33m=\u001b[0m \u001b[0mrow_names\u001b[0m\u001b[1;33m[\u001b[0m\u001b[0mi\u001b[0m\u001b[1;33m]\u001b[0m\u001b[1;33m\u001b[0m\u001b[0m\n\u001b[0;32m      5\u001b[0m         \u001b[0mjname\u001b[0m \u001b[1;33m=\u001b[0m \u001b[0mcol_names\u001b[0m\u001b[1;33m[\u001b[0m\u001b[0mj\u001b[0m\u001b[1;33m]\u001b[0m\u001b[1;33m\u001b[0m\u001b[0m\n",
      "\u001b[1;31mMemoryError\u001b[0m: "
     ]
    }
   ],
   "source": [
    "X = np.zeros((n_users,n_business,200))\n",
    "for i in range(n_users):\n",
    "    for j in range(n_business):\n",
    "        iname = row_names[i]\n",
    "        jname = col_names[j]\n",
    "        ii = int(user_dict[iname].strip('SENT_'))\n",
    "        jj = int(business_dict[jname].strip('SENT_'))\n",
    "        X[i,j,:] = np.concatenate((model_user.docvecs[ii],model_business.docvecs[jj]))"
   ]
  },
  {
   "cell_type": "code",
   "execution_count": null,
   "metadata": {
    "collapsed": true
   },
   "outputs": [],
   "source": []
  }
 ],
 "metadata": {
  "kernelspec": {
   "display_name": "Python 2",
   "language": "python",
   "name": "python2"
  },
  "language_info": {
   "codemirror_mode": {
    "name": "ipython",
    "version": 2
   },
   "file_extension": ".py",
   "mimetype": "text/x-python",
   "name": "python",
   "nbconvert_exporter": "python",
   "pygments_lexer": "ipython2",
   "version": "2.7.9"
  }
 },
 "nbformat": 4,
 "nbformat_minor": 0
}
